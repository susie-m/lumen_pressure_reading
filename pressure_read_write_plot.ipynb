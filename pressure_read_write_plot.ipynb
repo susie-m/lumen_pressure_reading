{
 "cells": [
  {
   "cell_type": "code",
   "execution_count": null,
   "metadata": {},
   "outputs": [],
   "source": [
    "# import libraries\n",
    "import serial\n",
    "import pandas as pd\n",
    "from pandas import DataFrame\n",
    "import numpy as np\n",
    "import matplotlib.pyplot as plt\n",
    "from matplotlib.animation import FuncAnimation\n",
    "import threading\n",
    "import os\n",
    "\n",
    "# configure Matplotlib backend\n",
    "import matplotlib\n",
    "matplotlib.use('TkAgg')\n",
    "\n",
    "# functions\n",
    "\n",
    "# reads in the pressure data from the sensor and writes pressure and time data to csv\n",
    "def pressure_read(serial_port, num_readings, filename, samplerate, done_flag):\n",
    "    ser = serial.Serial(serial_port, 115200)\n",
    "    data = []\n",
    "\n",
    "    for _ in range(num_readings):\n",
    "        line = ser.readline().decode().rstrip()\n",
    "        data.append(float(line))\n",
    "\n",
    "        df = DataFrame(data, columns=['pressure'])\n",
    "        df['real_time'] = np.arange(len(data)) * samplerate\n",
    "        df.to_csv(f'{filename}.csv', index=False)\n",
    "    \n",
    "    ser.close()\n",
    "    done_flag[0] = False\n",
    "\n",
    "# live plots pressure vs time \n",
    "def update_plot(i, filename, done_flag):\n",
    "    csv_file = f'{filename}.csv'\n",
    "    if os.path.exists(csv_file) and os.path.getsize(csv_file) > 0:\n",
    "        df = pd.read_csv(csv_file)\n",
    "        plt.cla()\n",
    "        plt.plot(df['real_time'], df['pressure'])\n",
    "        plt.xlabel('Time (seconds)')\n",
    "        plt.ylabel('Pressure Reading')\n",
    "        plt.title('Pressure vs. Time')\n",
    "    \n",
    "    # Check if the data collection is done and save the plot\n",
    "    if not done_flag[0]:\n",
    "        plt.savefig(f'{filename}.png')\n",
    "        plt.close()\n",
    "\n",
    "# runs the code\n",
    "def main(number_pressure_readings,samplerate, serial_port, filename):\n",
    "\n",
    "    done_flag = [True]\n",
    "\n",
    "    thread = threading.Thread(target=pressure_read, args=(serial_port, number_pressure_readings, filename, samplerate, done_flag))\n",
    "    thread.start()\n",
    "\n",
    "    animation = FuncAnimation(plt.gcf(), lambda i: update_plot(i, filename, done_flag), \n",
    "                              interval=100, cache_frame_data=False)\n",
    "    plt.show()\n",
    "\n",
    "    done_flag[0] = False\n",
    "    thread.join()"
   ]
  },
  {
   "cell_type": "code",
   "execution_count": null,
   "metadata": {},
   "outputs": [],
   "source": [
    "# specify parameters\n",
    "number_pressure_readings = 100\n",
    "samplerate = 0.1\n",
    "serial_port = '/dev/cu.usbmodem2101'\n",
    "filename = 'test'"
   ]
  },
  {
   "cell_type": "code",
   "execution_count": null,
   "metadata": {},
   "outputs": [],
   "source": [
    "# run pressure reading, writing to csv, and plotting\n",
    "if __name__ == \"__main__\":\n",
    "    main(number_pressure_readings,samplerate, serial_port, filename)"
   ]
  }
 ],
 "metadata": {
  "language_info": {
   "name": "python"
  }
 },
 "nbformat": 4,
 "nbformat_minor": 2
}
